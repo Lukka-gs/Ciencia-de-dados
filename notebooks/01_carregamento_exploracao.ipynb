{
 "cells": [
  {
   "cell_type": "code",
   "metadata": {},
   "source": [
    "# Solicita o upload manual do arquivo results.csv e carrega com pandas\n",
    "from google.colab import files\n",
    "uploaded = files.upload()  # O usuário seleciona o arquivo results.csv\n",
    "import pandas as pd\n",
    "\n",
    "# Carregamento do arquivo enviado\n",
    "df = pd.read_csv('results.csv')\n",
   ]
  },
  {
   "cell_type": "code",
   "metadata": {},
   "source": [
    "# Exibe as 5 primeiras linhas e um resumo estatístico dos dados numéricos\n",
    "print(df.head())\n",
    "print(df.describe())"
   ]
  },
  {
   "cell_type": "markdown",
   "metadata": {},
   "source": [
    "Os dados representam os resultados de corridas de Fórmula 1 de 1950 a 2020. Cada linha \u00e9 a classificação de um piloto em uma corrida, contendo informações como posição, pontos, tempo e volta mais rápida."
   ]
  }
 ],
 "metadata": {
  "kernelspec": {
   "display_name": "Python 3",
   "language": "python",
   "name": "python3"
  },
  "language_info": {
   "name": "python",
   "version": "3.x"
  }
 },
 "nbformat": 4,
 "nbformat_minor": 2
}
